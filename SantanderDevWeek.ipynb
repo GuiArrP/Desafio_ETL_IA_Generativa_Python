{
 "cells": [
  {
   "cell_type": "markdown",
   "metadata": {},
   "source": [
    "# Bibliotecas"
   ]
  },
  {
   "cell_type": "code",
   "execution_count": 1,
   "metadata": {},
   "outputs": [],
   "source": [
    "import pandas as pd # Biblioteca necessária para a manipulação de dataframes\n",
    "import requests # Biblioteca necessária para requisições das API's que serão utilizadas\n",
    "import json # Biblioteca necessária para manipulação de arquivos .json\n",
    "import openai # Biblioteca para a utilização da API da OpenAI"
   ]
  },
  {
   "cell_type": "markdown",
   "metadata": {},
   "source": [
    "# URL da API"
   ]
  },
  {
   "cell_type": "code",
   "execution_count": 2,
   "metadata": {},
   "outputs": [],
   "source": [
    "# Repositório da API : https://github.com/digitalinnovationone/santander-dev-week-2023-api\n",
    "sdw2023_api_url = 'https://sdw-2023-prd.up.railway.app'"
   ]
  },
  {
   "cell_type": "markdown",
   "metadata": {},
   "source": [
    "# EXTRACT"
   ]
  },
  {
   "cell_type": "markdown",
   "metadata": {},
   "source": [
    "Extração das informações presentes no arquivo SDW2023.csv"
   ]
  },
  {
   "cell_type": "code",
   "execution_count": 3,
   "metadata": {},
   "outputs": [],
   "source": [
    "df = pd.read_csv('SDW2023.csv')\n",
    "users_ids = df['UserID'].to_list()"
   ]
  },
  {
   "cell_type": "markdown",
   "metadata": {},
   "source": [
    "Aquisição dos dados dos cliente via API"
   ]
  },
  {
   "cell_type": "code",
   "execution_count": 4,
   "metadata": {},
   "outputs": [],
   "source": [
    "def get_user(id):\n",
    "    response = requests.get(f'{sdw2023_api_url}/users/{id}')\n",
    "\n",
    "    return response.json() if response.status_code == 200 else None\n",
    "\n",
    "users = [user for id in users_ids if (user := get_user(id)) is not None]\n",
    "# print(json.dumps(users, indent= 2))"
   ]
  },
  {
   "cell_type": "markdown",
   "metadata": {},
   "source": [
    "# TRANSFORM"
   ]
  },
  {
   "cell_type": "markdown",
   "metadata": {},
   "source": [
    "Para iniciar a etapa de transformação é necessário antes instalar e preparar o ambiente para o mesmo utilizar a biblioteca de OpenAI, Para isso basta seguir os seguinte passos:\n",
    "\n",
    "1. Instale a biblioteca pelo comando \"!pip install openai\" ;\n",
    "\n",
    "2. Crie uma conta na OpenAI. (https://openai.com/) ;\n",
    "\n",
    "3. Crie uma APIkey para a sua aplicação (https://platform.openai.com/account/api-keys). Nesse exercicio a APIkey vai aparecer protegida, mas será indicado quando você pode substituir a mesma por sua APIkey.\n",
    "\n",
    "WARNING: Durante a elaboração desse desafio foi verificado que o chat GPT so permite TRÊS consultas por minuto (No plano utilizado para o estudo). Portanto para fins ditaticos o arquivo .csv só possui o ID de 3 usuarios."
   ]
  },
  {
   "cell_type": "code",
   "execution_count": 5,
   "metadata": {},
   "outputs": [],
   "source": [
    "## Obtenção da APIkey\n",
    "with open('ignore/token_openai.txt', 'r') as arquivo:\n",
    "    openai_api_key = arquivo.read()\n",
    "\n",
    "openai.api_key = openai_api_key # Informando para a API o token de acesso"
   ]
  },
  {
   "cell_type": "markdown",
   "metadata": {},
   "source": [
    "Com tudo configurado podemos iniciar a geração de mensagens para o cliente. Isso será efetuado com a ajuda da documentação disponivel no link: https://platform.openai.com/docs/api-reference/chat/create?lang=python"
   ]
  },
  {
   "cell_type": "code",
   "execution_count": 6,
   "metadata": {},
   "outputs": [
    {
     "name": "stdout",
     "output_type": "stream",
     "text": [
      "Invista agora e garanta seu futuro!\n",
      "Invista hoje e garanta seu futuro financeiro! #InvestimentosImportantes\n",
      "\"Invista no seu futuro: faça seus recursos trabalharem por você!\"\n"
     ]
    }
   ],
   "source": [
    "def generate_ai_news(user):\n",
    "    completion = openai.ChatCompletion.create(\n",
    "        model=\"gpt-3.5-turbo\",\n",
    "        messages=[\n",
    "            {\n",
    "                \"role\": \"system\", \n",
    "                \"content\": \"Você é um especialista em marketing bancário.\"\n",
    "            },\n",
    "            {\n",
    "                \"role\": \"user\", \n",
    "                \"content\": f\"Crie uma mensagem para {user['name']} sobre a importância dos investimentos (máximo de 100 caracteres)\"\n",
    "            }\n",
    "        ]\n",
    "    )\n",
    "\n",
    "    return completion.choices[0].message.content\n",
    "\n",
    "for user in users:\n",
    "\n",
    "    news = generate_ai_news(user)\n",
    "    user['news'].append({\n",
    "        \"description\": news\n",
    "    })\n",
    "    print(news)"
   ]
  },
  {
   "cell_type": "markdown",
   "metadata": {},
   "source": [
    "# LOAD"
   ]
  },
  {
   "cell_type": "markdown",
   "metadata": {},
   "source": [
    "Agora podemos iniciar a atualização das mensagens para a API."
   ]
  },
  {
   "cell_type": "code",
   "execution_count": 16,
   "metadata": {},
   "outputs": [
    {
     "name": "stdout",
     "output_type": "stream",
     "text": [
      "User Devweekerson updated? False!\n",
      "User anguile updated? True!\n",
      "User Pyterson updated? True!\n"
     ]
    }
   ],
   "source": [
    "def update_user(user):\n",
    "    response = requests.put(f\"{sdw2023_api_url}/users/{user['id']}\", json=user)\n",
    "\n",
    "    return True if response.status_code == 200 else False\n",
    "\n",
    "for user in users:\n",
    "\n",
    "    sucess = update_user(user)\n",
    "\n",
    "    print(f\"User {user['name']} updated? {sucess}!\")"
   ]
  }
 ],
 "metadata": {
  "kernelspec": {
   "display_name": "Python 3",
   "language": "python",
   "name": "python3"
  },
  "language_info": {
   "codemirror_mode": {
    "name": "ipython",
    "version": 3
   },
   "file_extension": ".py",
   "mimetype": "text/x-python",
   "name": "python",
   "nbconvert_exporter": "python",
   "pygments_lexer": "ipython3",
   "version": "3.11.5"
  },
  "orig_nbformat": 4
 },
 "nbformat": 4,
 "nbformat_minor": 2
}
